{
  "nbformat": 4,
  "nbformat_minor": 0,
  "metadata": {
    "colab": {
      "provenance": [],
      "authorship_tag": "ABX9TyPh47myWpXSjPJTJTDs/Qmi",
      "include_colab_link": true
    },
    "kernelspec": {
      "name": "python3",
      "display_name": "Python 3"
    },
    "language_info": {
      "name": "python"
    }
  },
  "cells": [
    {
      "cell_type": "markdown",
      "metadata": {
        "id": "view-in-github",
        "colab_type": "text"
      },
      "source": [
        "<a href=\"https://colab.research.google.com/github/bka777555/hotel777/blob/main/%D0%9A%D0%BE%D0%BF%D0%B8%D1%8F_%D0%B1%D0%BB%D0%BE%D0%BA%D0%BD%D0%BE%D1%82%D0%B0_%22Untitled1_ipynb%22.ipynb\" target=\"_parent\"><img src=\"https://colab.research.google.com/assets/colab-badge.svg\" alt=\"Open In Colab\"/></a>"
      ]
    },
    {
      "cell_type": "code",
      "execution_count": 1,
      "metadata": {
        "id": "bXvYKNweBAKk",
        "colab": {
          "base_uri": "https://localhost:8080/",
          "height": 106
        },
        "outputId": "a9d538f7-3e61-424f-b81b-9cc6441ec285"
      },
      "outputs": [
        {
          "output_type": "error",
          "ename": "SyntaxError",
          "evalue": "invalid decimal literal (<ipython-input-1-308edf4309b2>, line 12)",
          "traceback": [
            "\u001b[0;36m  File \u001b[0;32m\"<ipython-input-1-308edf4309b2>\"\u001b[0;36m, line \u001b[0;32m12\u001b[0m\n\u001b[0;31m    padding: 20px;\u001b[0m\n\u001b[0m              ^\u001b[0m\n\u001b[0;31mSyntaxError\u001b[0m\u001b[0;31m:\u001b[0m invalid decimal literal\n"
          ]
        }
      ],
      "source": [
        "<!DOCTYPE html>\n",
        "<html lang=\"ru\">\n",
        "<head>\n",
        "    <meta charset=\"UTF-8\">\n",
        "    <meta name=\"viewport\" content=\"width=device-width, initial-scale=1.0\">\n",
        "    <title>Интерактивный тест</title>\n",
        "    <style>\n",
        "        body {\n",
        "            font-family: Arial, sans-serif;\n",
        "            background-color: #f4f4f4;\n",
        "            margin: 0;\n",
        "            padding: 20px;\n",
        "        }\n",
        "\n",
        "        .container {\n",
        "            background-color: #fff;\n",
        "            border-radius: 5px;\n",
        "            box-shadow: 0 2px 10px rgba(0, 0, 0, 0.1);\n",
        "            padding: 20px;\n",
        "            max-width: 400px;\n",
        "            margin: auto;\n",
        "        }\n",
        "\n",
        "        h2 {\n",
        "            text-align: center;\n",
        "        }\n",
        "\n",
        "        .options {\n",
        "            list-style-type: none;\n",
        "            padding: 0;\n",
        "        }\n",
        "\n",
        "        .options li {\n",
        "            margin: 10px 0;\n",
        "        }\n",
        "\n",
        "        button {\n",
        "            display: block;\n",
        "            width: 100%;\n",
        "            padding: 10px;\n",
        "            background-color: #28a745;\n",
        "            color: white;\n",
        "            border: none;\n",
        "            border-radius: 5px;\n",
        "            cursor: pointer;\n",
        "        }\n",
        "\n",
        "        button:hover {\n",
        "            background-color: #218838;\n",
        "        }\n",
        "\n",
        "        .result {\n",
        "            margin-top: 20px;\n",
        "            text-align: center;\n",
        "        }\n",
        "    </style>\n",
        "</head>\n",
        "<body>\n",
        "\n",
        "<div class=\"container\">\n",
        "    <h2>Выберите правильный вариант</h2>\n",
        "    <p>\"The students ___ the classroom as soon as the bell rang.\"</p>\n",
        "    <ul class=\"options\">\n",
        "        <li><button onclick=\"checkAnswer('a')\">a) leaves</button></li>\n",
        "        <li><button onclick=\"checkAnswer('b')\">b) leaving</button></li>\n",
        "        <li><button onclick=\"checkAnswer('c')\">c) left</button></li>\n",
        "        <li><button onclick=\"checkAnswer('d')\">d) leave</button></li>\n",
        "    </ul>\n",
        "    <div class=\"result\" id=\"result\"></div>\n",
        "</div>\n",
        "\n",
        "<script>\n",
        "    function checkAnswer(option) {\n",
        "        const resultDiv = document.getElementById('result');\n",
        "        if (option === 'c') {\n",
        "            resultDiv.innerHTML = '<p style=\"color: green;\">Правильно! Ответ: c) left</p>';\n",
        "        } else {\n",
        "            resultDiv.innerHTML = '<p style=\"color: red;\">Неправильно. Попробуйте еще раз.</p>';\n",
        "        }\n",
        "    }\n",
        "</script>\n",
        "\n",
        "</body>\n",
        "</html>"
      ]
    },
    {
      "cell_type": "code",
      "source": [],
      "metadata": {
        "id": "IrEaLJjzBLxU"
      },
      "execution_count": null,
      "outputs": []
    }
  ]
}